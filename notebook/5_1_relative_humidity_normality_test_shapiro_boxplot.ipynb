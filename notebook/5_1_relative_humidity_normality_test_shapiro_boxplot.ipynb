{
 "cells": [
  {
   "cell_type": "code",
   "execution_count": 1,
   "id": "4e880c5a",
   "metadata": {},
   "outputs": [],
   "source": [
    "import pandas as pd\n",
    "from scipy import stats"
   ]
  },
  {
   "cell_type": "code",
   "execution_count": 2,
   "id": "1011a162",
   "metadata": {},
   "outputs": [],
   "source": [
    "# Paths to the Excel files, each representing a scenario\n",
    "excel_files = [\n",
    "    \"C:/Users/golna.GOLNAZ/Desktop/Result/Atmosphere/Relative humidity/X Relative Humidity.xlsx\",\n",
    "    \"C:/Users/golna.GOLNAZ/Desktop/Result/Atmosphere/Relative humidity/Y Relative Humidity.xlsx\",\n",
    "    \"C:/Users/golna.GOLNAZ/Desktop/Result/Atmosphere/Relative humidity/Z Relative Humidity.xlsx\"\n",
    "]"
   ]
  },
  {
   "cell_type": "code",
   "execution_count": 3,
   "id": "c558ca6b",
   "metadata": {},
   "outputs": [
    {
     "name": "stdout",
     "output_type": "stream",
     "text": [
      "                   Scenario  Shapiro Statistic       P-Value\n",
      "0  X Relative Humidity.xlsx           0.874709  1.055169e-16\n",
      "1  Y Relative Humidity.xlsx           0.874631  1.042407e-16\n",
      "2  Z Relative Humidity.xlsx           0.874244  9.807306e-17\n"
     ]
    }
   ],
   "source": [
    "# shapiro test\n",
    "def test_normality_per_scenario(file_paths):\n",
    "    results = []\n",
    "    \n",
    "    for file_path in file_paths:\n",
    "        # Load the entire Excel file\n",
    "        df = pd.read_excel(file_path)\n",
    "        \n",
    "        # Assuming the first two columns are 'Date' and 'Hour', we drop them\n",
    "        df = df.iloc[:, 2:]\n",
    "        \n",
    "        # Flatten the DataFrame to a single list of values for the scenario\n",
    "        scenario_data = df.values.flatten()\n",
    "        \n",
    "        # Remove NaN values from the list for the scenario\n",
    "        scenario_data = [value for value in scenario_data if pd.notnull(value)]\n",
    "        \n",
    "        # Perform the Shapiro-Wilk test on the aggregated data for the scenario\n",
    "        stat, p = stats.shapiro(scenario_data)\n",
    "        \n",
    "        # Append the results for this scenario\n",
    "        results.append({\n",
    "            'Scenario': file_path.split('/')[-1],  # Extract filename as scenario identifier\n",
    "            'Shapiro Statistic': stat,\n",
    "            'P-Value': p\n",
    "        })\n",
    "    \n",
    "    # Convert the results list to a DataFrame for better presentation\n",
    "    results_df = pd.DataFrame(results)\n",
    "    return results_df\n",
    "\n",
    "# Run the normality test for each scenario and get the results in a DataFrame\n",
    "normality_test_results_df = test_normality_per_scenario(excel_files)\n",
    "\n",
    "# Display the results DataFrame\n",
    "print(normality_test_results_df)\n"
   ]
  },
  {
   "cell_type": "code",
   "execution_count": 4,
   "id": "7923d500",
   "metadata": {},
   "outputs": [],
   "source": [
    "#Boxplot"
   ]
  },
  {
   "cell_type": "code",
   "execution_count": 5,
   "id": "49b08f07",
   "metadata": {},
   "outputs": [],
   "source": [
    "import pandas as pd\n",
    "import matplotlib.pyplot as plt\n",
    "import seaborn as sns  # For enhanced boxplot aesthetics"
   ]
  },
  {
   "cell_type": "code",
   "execution_count": 6,
   "id": "3b95f4e7",
   "metadata": {},
   "outputs": [
    {
     "data": {
      "image/png": "[encoded data removed]",
      "text/plain": [
       "<Figure size 600x500 with 1 Axes>"
      ]
     },
     "metadata": {},
     "output_type": "display_data"
    }
   ],
   "source": [
    "excel_files = {\n",
    "    'With Trees':                  \"C:/Users/golna.GOLNAZ/Desktop/Result/Atmosphere/Relative humidity/X Relative Humidity.xlsx\",\n",
    "    'With Trees & Green facades':  \"C:/Users/golna.GOLNAZ/Desktop/Result/Atmosphere/Relative humidity/Y Relative Humidity.xlsx\",\n",
    "    'With No Greenery':            \"C:/Users/golna.GOLNAZ/Desktop/Result/Atmosphere/Relative humidity/Z Relative Humidity.xlsx\"\n",
    "}\n",
    "\n",
    "# Prepare an empty DataFrame for aggregating data\n",
    "aggregated_data = pd.DataFrame()\n",
    "\n",
    "# Load and aggregate data from each scenario\n",
    "for scenario, file_path in excel_files.items():\n",
    "    df = pd.read_excel(file_path)\n",
    "    # Assuming the relevant data starts from the third column\n",
    "    scenario_data = df.iloc[:, 2:].melt(value_vars=df.columns[2:])\n",
    "    scenario_data['Scenario'] = scenario  # Add a column to label the scenario\n",
    "    aggregated_data = pd.concat([aggregated_data, scenario_data[['Scenario', 'value']]], ignore_index=True)\n",
    "\n",
    "\n",
    "plt.figure(figsize=(6, 5))\n",
    "sns.boxplot(x='Scenario', y='value', data=aggregated_data, width=1/4, order=['With No Greenery', 'With Trees', 'With Trees & Green facades'], palette=['orange', 'lightgreen', 'darkgreen'])\n",
    "plt.title('Relative Humidity', fontweight='bold', pad=20)  # Title with bold fontweight\n",
    "plt.ylabel('Percent %', fontweight='bold', labelpad=15)\n",
    "plt.xlabel('Scenario', fontweight='bold', labelpad=10)\n",
    "plt.grid(axis='y', linestyle='--')\n",
    "plt.tight_layout()\n",
    "plt.show()\n"
   ]
  },
  {
   "cell_type": "code",
   "execution_count": null,
   "id": "7bcfcf70",
   "metadata": {},
   "outputs": [],
   "source": []
  }
 ],
 "metadata": {
  "kernelspec": {
   "display_name": "Python 3 (ipykernel)",
   "language": "python",
   "name": "python3"
  },
  "language_info": {
   "codemirror_mode": {
    "name": "ipython",
    "version": 3
   },
   "file_extension": ".py",
   "mimetype": "text/x-python",
   "name": "python",
   "nbconvert_exporter": "python",
   "pygments_lexer": "ipython3",
   "version": "3.11.4"
  }
 },
 "nbformat": 4,
 "nbformat_minor": 5
}
