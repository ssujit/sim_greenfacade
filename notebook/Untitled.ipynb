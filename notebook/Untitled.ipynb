{
 "cells": [
  {
   "cell_type": "code",
   "execution_count": 1,
   "id": "bc57ac14",
   "metadata": {},
   "outputs": [
    {
     "ename": "ModuleNotFoundError",
     "evalue": "No module named 'moviepy'",
     "output_type": "error",
     "traceback": [
      "\u001b[1;31m---------------------------------------------------------------------------\u001b[0m",
      "\u001b[1;31mModuleNotFoundError\u001b[0m                       Traceback (most recent call last)",
      "Cell \u001b[1;32mIn[1], line 1\u001b[0m\n\u001b[1;32m----> 1\u001b[0m \u001b[38;5;28;01mimport\u001b[39;00m \u001b[38;5;21;01mmoviepy\u001b[39;00m\u001b[38;5;21;01m.\u001b[39;00m\u001b[38;5;21;01meditor\u001b[39;00m \u001b[38;5;28;01mas\u001b[39;00m \u001b[38;5;21;01mmp\u001b[39;00m\n\u001b[0;32m      3\u001b[0m \u001b[38;5;28;01mdef\u001b[39;00m \u001b[38;5;21madd_audio_to_video\u001b[39m(video_path, audio_path, output_path):\n\u001b[0;32m      4\u001b[0m     \u001b[38;5;28;01mtry\u001b[39;00m:\n\u001b[0;32m      5\u001b[0m         \u001b[38;5;66;03m# Load the video file\u001b[39;00m\n",
      "\u001b[1;31mModuleNotFoundError\u001b[0m: No module named 'moviepy'"
     ]
    }
   ],
   "source": [
    "import moviepy.editor as mp\n",
    "\n",
    "def add_audio_to_video(video_path, audio_path, output_path):\n",
    "    try:\n",
    "        # Load the video file\n",
    "        video = mp.VideoFileClip(video_path)\n",
    "        \n",
    "        # Load the audio file\n",
    "        audio = mp.AudioFileClip(audio_path)\n",
    "        \n",
    "        # Set the audio of the video\n",
    "        video = video.set_audio(audio)\n",
    "        \n",
    "        # Save the final video\n",
    "        video.write_videofile(output_path, codec=\"libx264\", audio_codec=\"aac\")\n",
    "        print(\"Video processing complete.\")\n",
    "    except Exception as e:\n",
    "        print(f\"An error occurred: {e}\")\n",
    "\n",
    "# Define the input paths\n",
    "video_path = \"C:/Users/YourName/Videos/Cropped_Video_Green_Facades.mp4\"\n",
    "audio_path = \"C:/Users/YourName/Videos/sound - Converted with FlexClip.mp3\"\n",
    "output_path = \"C:/Users/YourName/Videos/Final_Video_with_Audio.mp4\"\n",
    "\n",
    "# Add the audio to the video\n",
    "add_audio_to_video(video_path, audio_path, output_path)\n"
   ]
  },
  {
   "cell_type": "code",
   "execution_count": null,
   "id": "a2439ee4",
   "metadata": {},
   "outputs": [],
   "source": []
  }
 ],
 "metadata": {
  "kernelspec": {
   "display_name": "Python 3 (ipykernel)",
   "language": "python",
   "name": "python3"
  },
  "language_info": {
   "codemirror_mode": {
    "name": "ipython",
    "version": 3
   },
   "file_extension": ".py",
   "mimetype": "text/x-python",
   "name": "python",
   "nbconvert_exporter": "python",
   "pygments_lexer": "ipython3",
   "version": "3.11.4"
  }
 },
 "nbformat": 4,
 "nbformat_minor": 5
}
