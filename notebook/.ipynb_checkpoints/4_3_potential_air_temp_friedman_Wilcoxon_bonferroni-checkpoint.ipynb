{
 "cells": [
  {
   "cell_type": "code",
   "execution_count": 1,
   "id": "961f3534",
   "metadata": {},
   "outputs": [],
   "source": [
    "import pandas as pd\n",
    "from scipy.stats import friedmanchisquare, wilcoxon\n",
    "from statsmodels.sandbox.stats.multicomp import multipletests"
   ]
  },
  {
   "cell_type": "code",
   "execution_count": 2,
   "id": "fe56f9a1",
   "metadata": {},
   "outputs": [],
   "source": [
    "# Reload the data\n",
    "with_tree_df = pd.read_excel(\"C:/Users/golna.GOLNAZ/Desktop/Result/Atmosphere/Potential Air T/X Potential Air Temperature.xlsx\")\n",
    "full_green_df = pd.read_excel(\"C:/Users/golna.GOLNAZ/Desktop/Result/Atmosphere/Potential Air T/Y Potential Air Temperature.xlsx\")\n",
    "no_greenery_df = pd.read_excel(\"C:/Users/golna.GOLNAZ/Desktop/Result/Atmosphere/Potential Air T/Z Potential Air Temperature.xlsx\")"
   ]
  },
  {
   "cell_type": "code",
   "execution_count": 3,
   "id": "12e79ef5",
   "metadata": {},
   "outputs": [
    {
     "data": {
      "text/plain": [
       "(FriedmanchisquareResult(statistic=44.086956521739125, pvalue=2.670785620636643e-10),\n",
       "                    Comparison  Corrected p-value\n",
       " 0   With Trees vs. Full Green       7.152557e-07\n",
       " 1  With Trees vs. No Greenery       7.152557e-07\n",
       " 2  Full Green vs. No Greenery       7.152557e-07)"
      ]
     },
     "execution_count": 3,
     "metadata": {},
     "output_type": "execute_result"
    }
   ],
   "source": [
    "# Extracting median temperatures for each time point across all buildings, for each scenario\n",
    "medians_with_tree = with_tree_df.drop(['Date', 'Time'], axis=1).median(axis=1)\n",
    "medians_full_green = full_green_df.drop(['Date', 'Time'], axis=1).median(axis=1)\n",
    "medians_no_greenery = no_greenery_df.drop(['Date', 'Time'], axis=1).median(axis=1)\n",
    "\n",
    "# Friedman Test\n",
    "friedman_test_result = friedmanchisquare(medians_with_tree, medians_full_green, medians_no_greenery)\n",
    "\n",
    "# Conducting pairwise Wilcoxon Signed-Ranks Tests\n",
    "p_values = [\n",
    "    wilcoxon(medians_with_tree, medians_full_green).pvalue,\n",
    "    wilcoxon(medians_with_tree, medians_no_greenery).pvalue,\n",
    "    wilcoxon(medians_full_green, medians_no_greenery).pvalue\n",
    "]\n",
    "\n",
    "# Applying Holm-Bonferroni method for correcting p-values\n",
    "corrected_p_values = multipletests(p_values, method='holm')[1]\n",
    "\n",
    "# Packaging results for interpretation\n",
    "pairwise_comparisons = [\n",
    "    \"With Trees vs. Full Green\",\n",
    "    \"With Trees vs. No Greenery\",\n",
    "    \"Full Green vs. No Greenery\"\n",
    "]\n",
    "holm_bonferroni_results = pd.DataFrame({\n",
    "    'Comparison': pairwise_comparisons,\n",
    "    'Corrected p-value': corrected_p_values\n",
    "})\n",
    "\n",
    "friedman_test_result, holm_bonferroni_results"
   ]
  },
  {
   "cell_type": "code",
   "execution_count": null,
   "id": "f537643e",
   "metadata": {},
   "outputs": [],
   "source": []
  }
 ],
 "metadata": {
  "kernelspec": {
   "display_name": "Python 3 (ipykernel)",
   "language": "python",
   "name": "python3"
  },
  "language_info": {
   "codemirror_mode": {
    "name": "ipython",
    "version": 3
   },
   "file_extension": ".py",
   "mimetype": "text/x-python",
   "name": "python",
   "nbconvert_exporter": "python",
   "pygments_lexer": "ipython3",
   "version": "3.11.4"
  }
 },
 "nbformat": 4,
 "nbformat_minor": 5
}
