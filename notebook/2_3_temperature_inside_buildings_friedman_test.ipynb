{
 "cells": [
  {
   "cell_type": "code",
   "execution_count": 5,
   "id": "94e5ecaa",
   "metadata": {},
   "outputs": [],
   "source": [
    "import pandas as pd\n",
    "from scipy.stats import friedmanchisquare, wilcoxon\n",
    "from statsmodels.sandbox.stats.multicomp import multipletests"
   ]
  },
  {
   "cell_type": "code",
   "execution_count": 6,
   "id": "0e905a92",
   "metadata": {},
   "outputs": [],
   "source": [
    "with_tree_df   = pd.read_excel(\"C:/Users/golna.GOLNAZ/Desktop/Result/building temperature/Summer/with tree.xlsx\")\n",
    "full_green_df  = pd.read_excel(\"C:/Users/golna.GOLNAZ/Desktop/Result/building temperature/Summer/full green.xlsx\")\n",
    "no_greenery_df = pd.read_excel(\"C:/Users/golna.GOLNAZ/Desktop/Result/building temperature/Summer/no greenery.xlsx\")"
   ]
  },
  {
   "cell_type": "code",
   "execution_count": 7,
   "id": "655f966e",
   "metadata": {},
   "outputs": [],
   "source": [
    "# Extracting median temperatures for each time point across all buildings, for each scenario\n",
    "medians_with_tree = with_tree_df.drop(['Date', 'Time'], axis=1).median(axis=1)\n",
    "medians_full_green = full_green_df.drop(['Date', 'Time'], axis=1).median(axis=1)\n",
    "medians_no_greenery = no_greenery_df.drop(['Date', 'Time'], axis=1).median(axis=1)"
   ]
  },
  {
   "cell_type": "code",
   "execution_count": 8,
   "id": "c562a250",
   "metadata": {},
   "outputs": [],
   "source": [
    "# Friedman Test\n",
    "friedman_test_result = friedmanchisquare(medians_with_tree, medians_full_green, medians_no_greenery)"
   ]
  },
  {
   "cell_type": "code",
   "execution_count": 9,
   "id": "9c5c7635",
   "metadata": {},
   "outputs": [
    {
     "name": "stderr",
     "output_type": "stream",
     "text": [
      "C:\\Users\\golna.GOLNAZ\\anaconda3\\Lib\\site-packages\\scipy\\stats\\_morestats.py:3414: UserWarning: Exact p-value calculation does not work if there are zeros. Switching to normal approximation.\n",
      "  warnings.warn(\"Exact p-value calculation does not work if there are \"\n"
     ]
    }
   ],
   "source": [
    "# Conducting pairwise Wilcoxon Signed-Ranks Tests\n",
    "p_values = [\n",
    "    wilcoxon(medians_with_tree, medians_full_green).pvalue,\n",
    "    wilcoxon(medians_with_tree, medians_no_greenery).pvalue,\n",
    "    wilcoxon(medians_full_green, medians_no_greenery).pvalue\n",
    "]"
   ]
  },
  {
   "cell_type": "code",
   "execution_count": 10,
   "id": "b3ed66dc",
   "metadata": {},
   "outputs": [],
   "source": [
    "# Applying Holm-Bonferroni method for correcting p-values\n",
    "corrected_p_values = multipletests(p_values, method='holm')[1]"
   ]
  },
  {
   "cell_type": "code",
   "execution_count": 11,
   "id": "b2ab4f9f",
   "metadata": {},
   "outputs": [
    {
     "data": {
      "text/plain": [
       "(FriedmanchisquareResult(statistic=28.45454545454544, pvalue=6.624818158258838e-07),\n",
       "                    Comparison  Corrected p-value\n",
       " 0   With Trees vs. Full Green           0.056253\n",
       " 1  With Trees vs. No Greenery           0.000310\n",
       " 2  Full Green vs. No Greenery           0.000018)"
      ]
     },
     "execution_count": 11,
     "metadata": {},
     "output_type": "execute_result"
    }
   ],
   "source": [
    "# Packaging results for interpretation\n",
    "pairwise_comparisons = [\n",
    "    \"With Trees vs. Full Green\",\n",
    "    \"With Trees vs. No Greenery\",\n",
    "    \"Full Green vs. No Greenery\"\n",
    "]\n",
    "holm_bonferroni_results = pd.DataFrame({\n",
    "    'Comparison': pairwise_comparisons,\n",
    "    'Corrected p-value': corrected_p_values\n",
    "})\n",
    "\n",
    "friedman_test_result, holm_bonferroni_results"
   ]
  },
  {
   "cell_type": "code",
   "execution_count": null,
   "id": "cc69dfb6",
   "metadata": {},
   "outputs": [],
   "source": []
  }
 ],
 "metadata": {
  "kernelspec": {
   "display_name": "Python 3 (ipykernel)",
   "language": "python",
   "name": "python3"
  },
  "language_info": {
   "codemirror_mode": {
    "name": "ipython",
    "version": 3
   },
   "file_extension": ".py",
   "mimetype": "text/x-python",
   "name": "python",
   "nbconvert_exporter": "python",
   "pygments_lexer": "ipython3",
   "version": "3.11.4"
  }
 },
 "nbformat": 4,
 "nbformat_minor": 5
}
