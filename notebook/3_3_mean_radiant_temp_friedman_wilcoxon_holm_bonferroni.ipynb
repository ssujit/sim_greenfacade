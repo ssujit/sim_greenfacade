{
 "cells": [
  {
   "cell_type": "code",
   "execution_count": 4,
   "id": "49c842f6",
   "metadata": {},
   "outputs": [],
   "source": [
    "import pandas as pd\n",
    "from scipy.stats import friedmanchisquare, wilcoxon\n",
    "from statsmodels.sandbox.stats.multicomp import multipletests"
   ]
  },
  {
   "cell_type": "code",
   "execution_count": 5,
   "id": "4292c064",
   "metadata": {},
   "outputs": [],
   "source": [
    "with_tree_df = pd.read_excel(\"C:/Users/golna.GOLNAZ/Desktop/Result/Atmosphere/MRT/X Mean Radiant Temp.xlsx\")\n",
    "full_green_df = pd.read_excel(\"C:/Users/golna.GOLNAZ/Desktop/Result/Atmosphere/MRT/Y Mean Radiant Temp.xlsx\")\n",
    "no_greenery_df = pd.read_excel(\"C:/Users/golna.GOLNAZ/Desktop/Result/Atmosphere/MRT/Z Mean Radiant Temp.xlsx\")"
   ]
  },
  {
   "cell_type": "code",
   "execution_count": 6,
   "id": "1e3f74ca",
   "metadata": {},
   "outputs": [],
   "source": [
    "#Calculating the median temperature for each time point across all measurement points for each scenario\n",
    "\n",
    "medians_with_tree = with_tree_df.drop(['Date', 'Time'], axis=1).median(axis=1)\n",
    "medians_full_green = full_green_df.drop(['Date', 'Time'], axis=1).median(axis=1)\n",
    "medians_no_greenery = no_greenery_df.drop(['Date', 'Time'], axis=1).median(axis=1)"
   ]
  },
  {
   "cell_type": "code",
   "execution_count": 7,
   "id": "1cd9dfc6",
   "metadata": {},
   "outputs": [],
   "source": [
    "# Friedman Test\n",
    "\n",
    "friedman_test_result = friedmanchisquare(medians_with_tree, medians_full_green, medians_no_greenery)\n",
    "\n",
    "# Conducting pairwise Wilcoxon Signed-Ranks Tests\n",
    "\n",
    "p_values = [\n",
    "    wilcoxon(medians_with_tree, medians_full_green).pvalue,\n",
    "    wilcoxon(medians_with_tree, medians_no_greenery).pvalue,\n",
    "    wilcoxon(medians_full_green, medians_no_greenery).pvalue\n",
    "]\n"
   ]
  },
  {
   "cell_type": "code",
   "execution_count": 8,
   "id": "2ad7ab57",
   "metadata": {},
   "outputs": [
    {
     "data": {
      "text/plain": [
       "(FriedmanchisquareResult(statistic=28.260869565217376, pvalue=7.298441763757493e-07),\n",
       "                    Comparison  Corrected p-value\n",
       " 0   With Trees vs. Full Green       9.503365e-04\n",
       " 1  With Trees vs. No Greenery       1.010919e-02\n",
       " 2  Full Green vs. No Greenery       7.152557e-07)"
      ]
     },
     "execution_count": 8,
     "metadata": {},
     "output_type": "execute_result"
    }
   ],
   "source": [
    "# Applying Holm-Bonferroni method for correcting p-values\n",
    "corrected_p_values = multipletests(p_values, method='holm')[1]\n",
    "\n",
    "# Packaging results for interpretation\n",
    "pairwise_comparisons = [\n",
    "    \"With Trees vs. Full Green\",\n",
    "    \"With Trees vs. No Greenery\",\n",
    "    \"Full Green vs. No Greenery\"\n",
    "]\n",
    "\n",
    "holm_bonferroni_results = pd.DataFrame({\n",
    "    'Comparison': pairwise_comparisons,\n",
    "    'Corrected p-value': corrected_p_values\n",
    "})\n",
    "\n",
    "friedman_test_result, holm_bonferroni_results"
   ]
  },
  {
   "cell_type": "code",
   "execution_count": null,
   "id": "735716bc",
   "metadata": {},
   "outputs": [],
   "source": []
  }
 ],
 "metadata": {
  "kernelspec": {
   "display_name": "Python 3 (ipykernel)",
   "language": "python",
   "name": "python3"
  },
  "language_info": {
   "codemirror_mode": {
    "name": "ipython",
    "version": 3
   },
   "file_extension": ".py",
   "mimetype": "text/x-python",
   "name": "python",
   "nbconvert_exporter": "python",
   "pygments_lexer": "ipython3",
   "version": "3.11.4"
  }
 },
 "nbformat": 4,
 "nbformat_minor": 5
}
